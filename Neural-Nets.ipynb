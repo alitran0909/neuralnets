{
 "cells": [
  {
   "cell_type": "markdown",
   "id": "3b781df3",
   "metadata": {},
   "source": [
    "# Homework 6\n",
    "The space for the answer is either marked by \"*FILL IN (ENGLISH)*\" or \"*FILL IN (CODE)*\".  In the former case, you should simply write your answer in English.  In the latter case, write code to do the computation.\n",
    "\n",
    "You are welcome to add cells to do scratch computations."
   ]
  },
  {
   "cell_type": "code",
   "execution_count": 3,
   "id": "b0981823",
   "metadata": {},
   "outputs": [],
   "source": [
    "from os.path import expanduser\n",
    "datadir = expanduser('~/scratch/data')"
   ]
  },
  {
   "cell_type": "code",
   "execution_count": 4,
   "id": "22254a62",
   "metadata": {
    "scrolled": true
   },
   "outputs": [
    {
     "name": "stdout",
     "output_type": "stream",
     "text": [
      "Files already downloaded and verified\n"
     ]
    }
   ],
   "source": [
    "from torchvision.datasets import CIFAR10\n",
    "trainset = CIFAR10(root=datadir, train=True, download = True)"
   ]
  },
  {
   "cell_type": "markdown",
   "id": "92ced92e",
   "metadata": {},
   "source": [
    "## Q1.\n",
    "\n",
    "*FILL IN (ENGLISH)*"
   ]
  },
  {
   "cell_type": "code",
   "execution_count": 5,
   "id": "325e5cef",
   "metadata": {},
   "outputs": [
    {
     "name": "stdout",
     "output_type": "stream",
     "text": [
      "(50000, 32, 32, 3)\n"
     ]
    }
   ],
   "source": [
    "len(trainset)\n",
    "X = trainset.data\n",
    "print(X.shape)"
   ]
  },
  {
   "cell_type": "code",
   "execution_count": 6,
   "id": "f2c9dc8a",
   "metadata": {},
   "outputs": [
    {
     "ename": "SyntaxError",
     "evalue": "invalid syntax (1557751958.py, line 1)",
     "output_type": "error",
     "traceback": [
      "\u001b[1;36m  File \u001b[1;32m\"C:\\Users\\alish\\AppData\\Local\\Temp\\ipykernel_10948\\1557751958.py\"\u001b[1;36m, line \u001b[1;32m1\u001b[0m\n\u001b[1;33m    When printing the shape of the dataset one would get the result of (50000, 32, 32, 3)\u001b[0m\n\u001b[1;37m         ^\u001b[0m\n\u001b[1;31mSyntaxError\u001b[0m\u001b[1;31m:\u001b[0m invalid syntax\n"
     ]
    }
   ],
   "source": [
    "When printing the shape of the dataset one would get the result of (50000, 32, 32, 3) \n",
    "The 50,000 indicates how many images we are working with, to be specific there are 50000 training images\n",
    "The dimensions of this shape relate exactly to the dataset we are working with\n",
    "50000 is related to how many training images we have to work with\n",
    "The two 32s are the dimensions of the actual images which are squares so they are 32x32\n",
    "Then the 3 is the components of the images or the channels of the images\n"
   ]
  },
  {
   "cell_type": "markdown",
   "id": "cf30bef5",
   "metadata": {},
   "source": [
    "## Q2."
   ]
  },
  {
   "cell_type": "code",
   "execution_count": 7,
   "id": "b5e0ce72",
   "metadata": {},
   "outputs": [
    {
     "data": {
      "text/plain": [
       "<matplotlib.image.AxesImage at 0x28c00c543d0>"
      ]
     },
     "execution_count": 7,
     "metadata": {},
     "output_type": "execute_result"
    },
    {
     "data": {
      "image/png": "[encoded data removed]",
      "text/plain": [
       "<Figure size 640x480 with 1 Axes>"
      ]
     },
     "metadata": {},
     "output_type": "display_data"
    }
   ],
   "source": [
    "# FILL IN (CODE)\n",
    "(img, y) = trainset[13]\n",
    "type(img)\n",
    "import numpy as np\n",
    "x = np.asarray(img)\n",
    "import matplotlib.pyplot as pic\n",
    "pic.imshow(x)\n"
   ]
  },
  {
   "cell_type": "markdown",
   "id": "c55d2eaa",
   "metadata": {},
   "source": [
    "## Q3."
   ]
  },
  {
   "cell_type": "code",
   "execution_count": 8,
   "id": "af50e285",
   "metadata": {},
   "outputs": [
    {
     "data": {
      "text/plain": [
       "<matplotlib.image.AxesImage at 0x28c00c98610>"
      ]
     },
     "execution_count": 8,
     "metadata": {},
     "output_type": "execute_result"
    },
    {
     "data": {
      "image/png": "[encoded data removed]",
      "text/plain": [
       "<Figure size 640x480 with 1 Axes>"
      ]
     },
     "metadata": {},
     "output_type": "display_data"
    }
   ],
   "source": [
    "# FILL IN (CODE)\n",
    "new_img = x.copy()\n",
    "new_img[:,:,1] = 0\n",
    "pic.imshow(new_img, cmap = 'gray')"
   ]
  },
  {
   "cell_type": "markdown",
   "id": "a9b943b7",
   "metadata": {},
   "source": [
    "## Q4.\n",
    "\n",
    "*FILL IN (ENGLISH)*"
   ]
  },
  {
   "cell_type": "code",
   "execution_count": 15,
   "id": "61ac8772",
   "metadata": {},
   "outputs": [
    {
     "name": "stdout",
     "output_type": "stream",
     "text": [
      "torch.Size([3, 32, 32])\n"
     ]
    }
   ],
   "source": [
    "from torchvision.transforms import ToTensor\n",
    "totensor = ToTensor()\n",
    "x = totensor(img)\n",
    "print(x.shape)"
   ]
  },
  {
   "cell_type": "code",
   "execution_count": null,
   "id": "20b9a131",
   "metadata": {},
   "outputs": [],
   "source": [
    "Therefore the resulting tensor has a shape of (3,32,32)\n",
    "In this case the 3 is representing our 3 channels\n",
    "The 3 channels are the RGB color schemes\n",
    "Each of the 32 are the dimensions of the images\n",
    "Thus 32 is the width and 32 is the height\n",
    "Together, there are the 3 channel colors and the 3x32 image\n",
    "The numerical values of the 3 would be the values of the color channels\n",
    "So these values could be in the range of [0,255] and could be floats\n",
    "The 32x32 numerical values are related to image dimension so the actual image presentation\n"
   ]
  },
  {
   "cell_type": "markdown",
   "id": "0d7bceda",
   "metadata": {},
   "source": [
    "## Q5.\n",
    "\n",
    "*FILL IN (ENGLISH)*"
   ]
  },
  {
   "cell_type": "code",
   "execution_count": 19,
   "id": "293a3deb",
   "metadata": {},
   "outputs": [
    {
     "name": "stdout",
     "output_type": "stream",
     "text": [
      "tensor([[[-0.8667, -0.8667, -0.8667,  ..., -0.8196, -0.8275, -0.8510],\n",
      "         [-0.8588, -0.8588, -0.8588,  ..., -0.8118, -0.8196, -0.8275],\n",
      "         [-0.8588, -0.8588, -0.8510,  ..., -0.8118, -0.8196, -0.8196],\n",
      "         ...,\n",
      "         [ 0.7020,  0.7725,  0.6471,  ..., -0.7412, -0.7490, -0.7412],\n",
      "         [ 0.7176,  0.7412,  0.6784,  ..., -0.7255, -0.7333, -0.7412],\n",
      "         [ 0.6471,  0.7333,  0.6863,  ..., -0.7176, -0.7333, -0.7490]],\n",
      "\n",
      "        [[-0.9765, -0.9765, -0.9843,  ..., -0.8980, -0.9059, -0.9294],\n",
      "         [-0.9686, -0.9686, -0.9686,  ..., -0.8902, -0.8980, -0.9059],\n",
      "         [-0.9686, -0.9686, -0.9608,  ..., -0.8902, -0.8980, -0.8980],\n",
      "         ...,\n",
      "         [ 0.6784,  0.7176,  0.5765,  ..., -0.8118, -0.8196, -0.8118],\n",
      "         [ 0.6863,  0.6863,  0.6314,  ..., -0.7961, -0.8039, -0.8118],\n",
      "         [ 0.6314,  0.6941,  0.6627,  ..., -0.7882, -0.8039, -0.8196]],\n",
      "\n",
      "        [[-0.9843, -0.9843, -0.9922,  ..., -0.9137, -0.9216, -0.9451],\n",
      "         [-0.9765, -0.9765, -0.9765,  ..., -0.9059, -0.9137, -0.9216],\n",
      "         [-0.9765, -0.9765, -0.9686,  ..., -0.9059, -0.9137, -0.9137],\n",
      "         ...,\n",
      "         [ 0.7490,  0.7804,  0.6706,  ..., -0.8667, -0.8745, -0.8667],\n",
      "         [ 0.8039,  0.7961,  0.7647,  ..., -0.8510, -0.8588, -0.8667],\n",
      "         [ 0.7490,  0.7961,  0.7804,  ..., -0.8431, -0.8588, -0.8745]]])\n"
     ]
    }
   ],
   "source": [
    "from torchvision.transforms import Normalize\n",
    "normalize = Normalize((0.5,0.5,0.5), (0.5, 0.5,0.5))\n",
    "print(normalize(x))"
   ]
  },
  {
   "cell_type": "code",
   "execution_count": null,
   "id": "b71d7bf1",
   "metadata": {},
   "outputs": [],
   "source": [
    "The values of x do lie in the range of [0,1] however, after doing\n",
    "normalize(x) it seems that the values also dip down to the negatives\n",
    "Yet there are still certain values that remain positive and close to 1\n",
    "Thus I would say that the range of values after normalize seems\n",
    "To be [-1, 1]\n"
   ]
  },
  {
   "cell_type": "markdown",
   "id": "aa12ec6e",
   "metadata": {},
   "source": [
    "## Q6.\n",
    "\n",
    "*FILL IN (ENGLISH)*"
   ]
  },
  {
   "cell_type": "code",
   "execution_count": 21,
   "id": "33028986",
   "metadata": {},
   "outputs": [
    {
     "name": "stdout",
     "output_type": "stream",
     "text": [
      "(tensor([[[-0.8667, -0.8667, -0.8667,  ..., -0.8196, -0.8275, -0.8510],\n",
      "         [-0.8588, -0.8588, -0.8588,  ..., -0.8118, -0.8196, -0.8275],\n",
      "         [-0.8588, -0.8588, -0.8510,  ..., -0.8118, -0.8196, -0.8196],\n",
      "         ...,\n",
      "         [ 0.7020,  0.7725,  0.6471,  ..., -0.7412, -0.7490, -0.7412],\n",
      "         [ 0.7176,  0.7412,  0.6784,  ..., -0.7255, -0.7333, -0.7412],\n",
      "         [ 0.6471,  0.7333,  0.6863,  ..., -0.7176, -0.7333, -0.7490]],\n",
      "\n",
      "        [[-0.9765, -0.9765, -0.9843,  ..., -0.8980, -0.9059, -0.9294],\n",
      "         [-0.9686, -0.9686, -0.9686,  ..., -0.8902, -0.8980, -0.9059],\n",
      "         [-0.9686, -0.9686, -0.9608,  ..., -0.8902, -0.8980, -0.8980],\n",
      "         ...,\n",
      "         [ 0.6784,  0.7176,  0.5765,  ..., -0.8118, -0.8196, -0.8118],\n",
      "         [ 0.6863,  0.6863,  0.6314,  ..., -0.7961, -0.8039, -0.8118],\n",
      "         [ 0.6314,  0.6941,  0.6627,  ..., -0.7882, -0.8039, -0.8196]],\n",
      "\n",
      "        [[-0.9843, -0.9843, -0.9922,  ..., -0.9137, -0.9216, -0.9451],\n",
      "         [-0.9765, -0.9765, -0.9765,  ..., -0.9059, -0.9137, -0.9216],\n",
      "         [-0.9765, -0.9765, -0.9686,  ..., -0.9059, -0.9137, -0.9137],\n",
      "         ...,\n",
      "         [ 0.7490,  0.7804,  0.6706,  ..., -0.8667, -0.8745, -0.8667],\n",
      "         [ 0.8039,  0.7961,  0.7647,  ..., -0.8510, -0.8588, -0.8667],\n",
      "         [ 0.7490,  0.7961,  0.7804,  ..., -0.8431, -0.8588, -0.8745]]]), 2)\n"
     ]
    }
   ],
   "source": [
    "from torchvision.transforms import Compose\n",
    "Compose([totensor, normalize])\n",
    "trainset.transform = Compose([totensor, normalize])\n",
    "#print(trainset[13])"
   ]
  },
  {
   "cell_type": "code",
   "execution_count": null,
   "id": "0d2f65f7",
   "metadata": {},
   "outputs": [],
   "source": [
    "After transforming the dataset by using numpy arrays it's quite obvious\n",
    "that there are numerical changes to trainset[13]. Prior to the transformation\n",
    "it was divided by 3 values each that fell in the range of [0,255]\n",
    "After the transformation the values fall into the range of [-1,1]\n",
    "which is very different from 0 to 255. The shape of trainset[13]\n",
    "is also different it seems to no longer be as cleancut as the\n",
    "earlier numpy array from trainset[13] prior to transformations.\n"
   ]
  },
  {
   "cell_type": "markdown",
   "id": "38ba1cdb",
   "metadata": {},
   "source": [
    "## Q7."
   ]
  },
  {
   "cell_type": "code",
   "execution_count": 22,
   "id": "21ff4927",
   "metadata": {},
   "outputs": [],
   "source": [
    "def show_image (x):\n",
    "    # FILL IN (CODE)\n",
    "    #untransform\n",
    "    x = (x*.5) + .5\n",
    "    #convert to array\n",
    "    x = x.numpy()\n",
    "    #fix shape\n",
    "    z = np.transpose(x, (1, 2, 0))\n",
    "    pic.imshow(z)\n",
    "    \n"
   ]
  },
  {
   "cell_type": "code",
   "execution_count": 23,
   "id": "f6dfb77f",
   "metadata": {},
   "outputs": [
    {
     "data": {
      "image/png": "[encoded data removed]",
      "text/plain": [
       "<Figure size 640x480 with 1 Axes>"
      ]
     },
     "metadata": {},
     "output_type": "display_data"
    }
   ],
   "source": [
    "# RUN THIS\n",
    "show_image(trainset[13][0])"
   ]
  },
  {
   "cell_type": "markdown",
   "id": "3d36ef24",
   "metadata": {},
   "source": [
    "## Q8.\n",
    "*FILL IN (ENGLISH)*"
   ]
  },
  {
   "cell_type": "code",
   "execution_count": 24,
   "id": "e3d244a8",
   "metadata": {},
   "outputs": [],
   "source": [
    "from torch.utils.data import DataLoader\n",
    "batch_size = 4\n",
    "trainloader = DataLoader(trainset, batch_size = batch_size, shuffle = True, num_workers = 2)\n",
    "(X,y) = next(iter(trainloader))"
   ]
  },
  {
   "cell_type": "code",
   "execution_count": 27,
   "id": "8650196d",
   "metadata": {},
   "outputs": [
    {
     "name": "stdout",
     "output_type": "stream",
     "text": [
      "torch.Size([4, 3, 32, 32])\n",
      "torch.Size([4])\n",
      "tensor([1, 0, 6, 5])\n"
     ]
    }
   ],
   "source": [
    "#print(X.shape)\n",
    "#print(y.shape)\n",
    "#print(y[:])"
   ]
  },
  {
   "cell_type": "code",
   "execution_count": null,
   "id": "666b0987",
   "metadata": {},
   "outputs": [],
   "source": [
    "There are 4 components when printing the shape of X\n",
    "The first index of X is how many images we are working with so in this case four\n",
    "The 3 and the two 32s are very similar to what was said above\n",
    "The 3 relates to the color channels and the 32s are the dimensions of the images\n",
    "Thus these 4 components create X\n",
    "Meanwhile y relates to which class these images belong to so if y were to be 0 it would relate to the first class in the dataset\n",
    "As there are 10 possible classes these images can relate to\n"
   ]
  },
  {
   "cell_type": "markdown",
   "id": "9eb0e701",
   "metadata": {},
   "source": [
    "## Q9."
   ]
  },
  {
   "cell_type": "code",
   "execution_count": 29,
   "id": "96e57cb3",
   "metadata": {},
   "outputs": [],
   "source": [
    "testset = CIFAR10(root=datadir, train=False, transform = trainset.transform)\n",
    "testloader = DataLoader(testset, batch_size = batch_size, shuffle = True, num_workers = 2)"
   ]
  },
  {
   "cell_type": "code",
   "execution_count": 30,
   "id": "fc1f3d53",
   "metadata": {},
   "outputs": [],
   "source": [
    "from torch.random import manual_seed, set_rng_state\n",
    "state = manual_seed(42).get_state()\n",
    "set_rng_state(state)\n"
   ]
  },
  {
   "cell_type": "code",
   "execution_count": 43,
   "id": "f2ee32b7",
   "metadata": {},
   "outputs": [
    {
     "name": "stdout",
     "output_type": "stream",
     "text": [
      "torch.Size([4, 6, 28, 28])\n",
      "torch.Size([4, 6, 14, 14])\n",
      "torch.Size([4, 16, 10, 10])\n",
      "torch.Size([4, 16, 5, 5])\n"
     ]
    }
   ],
   "source": [
    "from torch.nn import Conv2d\n",
    "from torch.nn.functional import max_pool2d\n",
    "conv = Conv2d(3, 6, 5)\n",
    "z = conv(X)\n",
    "print(z.shape)\n",
    "h = relu(z)\n",
    "h = max_pool2d(h,2)\n",
    "print(h.shape)\n",
    "\n",
    "conv2 = Conv2d(6, 16, 5)\n",
    "y = conv2(h)\n",
    "print(y.shape)\n",
    "n = relu(y)\n",
    "n = max_pool2d(n, 2)\n",
    "print(n.shape)"
   ]
  },
  {
   "cell_type": "code",
   "execution_count": 45,
   "id": "4e626bd1",
   "metadata": {},
   "outputs": [],
   "source": [
    "# FILL IN (CODE)\n",
    "from torch.nn import Conv2d\n",
    "from torch.nn.functional import max_pool2d\n",
    "from torch.nn import Linear\n",
    "from torch.nn import Module\n",
    "from torch.nn.functional import relu, softmax\n",
    "class MyCNN(Module):\n",
    "    def __init__(self):\n",
    "        Module.__init__(self)\n",
    "        \n",
    "        self.conv1 = Conv2d(3, 6, 5)\n",
    "        self.conv2 = Conv2d(6, 16, 5)\n",
    "        \n",
    "        #fully connect\n",
    "        self.fc1 = Linear(16*5*5, 120)\n",
    "        self.fc2 = Linear(120, 84)\n",
    "        self.fc3 = Linear(84,10)\n",
    "        \n",
    "    def forward(self,X):\n",
    "        X = max_pool2d(relu(self.conv1(X)), 2)\n",
    "        X = max_pool2d(relu(self.conv2(X)), 2)\n",
    "        \n",
    "        #flatten\n",
    "        X = X.reshape(X.shape[0], -1)\n",
    "        \n",
    "        X = relu(self.fc1(X))\n",
    "        X = relu(self.fc2(X))\n",
    "        X = self.fc3(X)\n",
    "        \n",
    "        \n",
    "        return X\n"
   ]
  },
  {
   "cell_type": "markdown",
   "id": "3edaf545",
   "metadata": {},
   "source": [
    "## Q10.\n",
    "*FILL IN (ENGLISH)*"
   ]
  },
  {
   "cell_type": "code",
   "execution_count": 38,
   "id": "5f3b4c31",
   "metadata": {},
   "outputs": [
    {
     "ename": "SyntaxError",
     "evalue": "invalid syntax (2049284280.py, line 1)",
     "output_type": "error",
     "traceback": [
      "\u001b[1;36m  File \u001b[1;32m\"C:\\Users\\alish\\AppData\\Local\\Temp\\ipykernel_10948\\2049284280.py\"\u001b[1;36m, line \u001b[1;32m1\u001b[0m\n\u001b[1;33m    From how the code was written I filled it out\u001b[0m\n\u001b[1;37m         ^\u001b[0m\n\u001b[1;31mSyntaxError\u001b[0m\u001b[1;31m:\u001b[0m invalid syntax\n"
     ]
    }
   ],
   "source": [
    "I wrote the code following the architecture of lecture 23\n",
    "\n",
    "After the First Convolution:\n",
    "    A 5x5 kernel was applied to 32x32 images, inputs were 3 channels and it was tasked with 6 output channels\n",
    "    The output had 4 instances, the images became 28x28 and there were 6 channels, \n",
    "    in other words there were 6 different units recognizing six different features\n",
    "After the first max pooling:\n",
    "    The instances are still 4 and the output channels are 6 but the images have been cut in half and are 14x14\n",
    "\n",
    "After the second Convolution:\n",
    "    There are still 4 instances, but now there are 16 output channels as was put in \n",
    "    the parameters for Conv2d and the images are now 10x10\n",
    "\n",
    "After the second max pooling:\n",
    "    There are still 4 instances, 16 output channels and now the images are once again cut in half and are 5x5\n",
    "\n",
    "Overall the instances remained the same number throughout, while output channels changed based on what the \n",
    "function specified and image sizes were affected"
   ]
  },
  {
   "cell_type": "code",
   "execution_count": 46,
   "id": "69de0486",
   "metadata": {},
   "outputs": [],
   "source": [
    "net = MyCNN()\n",
    "yhat = net(X)"
   ]
  },
  {
   "cell_type": "markdown",
   "id": "07eb73d0",
   "metadata": {},
   "source": [
    "## Q11."
   ]
  },
  {
   "cell_type": "code",
   "execution_count": 47,
   "id": "c4058696",
   "metadata": {},
   "outputs": [],
   "source": [
    "import torch\n",
    "\n",
    "def predict (net, X):\n",
    "    # FILL IN (CODE)\n",
    "    with torch.no_grad():\n",
    "        predict = torch.max(net(X), dim = 1)\n",
    "        return predict[1]\n",
    "\n"
   ]
  },
  {
   "cell_type": "code",
   "execution_count": 48,
   "id": "b157a411",
   "metadata": {},
   "outputs": [
    {
     "data": {
      "text/plain": [
       "tensor([4, 4, 2, 4])"
      ]
     },
     "execution_count": 48,
     "metadata": {},
     "output_type": "execute_result"
    }
   ],
   "source": [
    "predict(net, X)"
   ]
  },
  {
   "cell_type": "markdown",
   "id": "eaf22f4f",
   "metadata": {},
   "source": [
    "## Q12."
   ]
  },
  {
   "cell_type": "code",
   "execution_count": 49,
   "id": "8252ad03",
   "metadata": {},
   "outputs": [],
   "source": [
    "def print_accuracy (net, loader, classes):\n",
    "    # FILL IN (CODE)\n",
    "    overall_acc = 0\n",
    "    j = 0\n",
    "    for j in range(10):\n",
    "        iterator = iter(loader)\n",
    "        (X,y) = next(iterator)\n",
    "        vecpredict = predict(net, X)\n",
    "        a = (y == vecpredict).sum()/10\n",
    "        overall_acc = overall_acc + float(a)\n",
    "        \n",
    "        z = float(a)\n",
    "        \n",
    "        print(classes[j], ':', \"%.2f\"%z)\n",
    "        \n",
    "        j = j + 1\n",
    "        \n",
    "    print('Overall', ':', \"%.2f\"%overall_acc)"
   ]
  },
  {
   "cell_type": "code",
   "execution_count": 50,
   "id": "0fac0385",
   "metadata": {},
   "outputs": [
    {
     "name": "stdout",
     "output_type": "stream",
     "text": [
      "airplane : 0.00\n",
      "automobile : 0.10\n",
      "bird : 0.00\n",
      "cat : 0.00\n",
      "deer : 0.00\n",
      "dog : 0.00\n",
      "frog : 0.00\n",
      "horse : 0.00\n",
      "ship : 0.10\n",
      "truck : 0.00\n",
      "Overall : 0.20\n"
     ]
    }
   ],
   "source": [
    "# RUN THIS\n",
    "print_accuracy(net, testloader, testset.classes)"
   ]
  },
  {
   "cell_type": "markdown",
   "id": "94c12761",
   "metadata": {},
   "source": [
    "## Q13."
   ]
  },
  {
   "cell_type": "code",
   "execution_count": 57,
   "id": "bc248aba",
   "metadata": {},
   "outputs": [],
   "source": [
    "def update (m, eta = 0.1):\n",
    "    for param in m.parameters():\n",
    "        param.data -= eta * param.grad"
   ]
  },
  {
   "cell_type": "code",
   "execution_count": 62,
   "id": "e2e7ea11",
   "metadata": {},
   "outputs": [],
   "source": [
    "from torch.optim import SGD\n",
    "from time import time\n",
    "from torch.nn import CrossEntropyLoss\n",
    "def train (loader, nepochs=10):\n",
    "    total_batch = 0\n",
    "    running_loss = 0\n",
    "    net = MyCNN()\n",
    "    loss = CrossEntropyLoss()\n",
    "    sgd = SGD(net.parameters(), lr = 0.001, momentum = 0.9)\n",
    "    # FILL IN (CODE)\n",
    "    t0 = time()\n",
    "    for i in range(nepochs):\n",
    "        for(X,y) in loader:\n",
    "            yhat = net(X)\n",
    "            J = loss(yhat, y)\n",
    "            running_loss = running_loss + J.item()\n",
    "            net.zero_grad()\n",
    "            J.backward()\n",
    "            update(net)\n",
    "            total_batch = total_batch + 1\n",
    "            if total_batch == 2000:\n",
    "                print(running_loss/2000)\n",
    "                total_batch = 0\n",
    "                running_loss = 0\n",
    "                \n",
    "    t1 = time()\n",
    "    print('Finished Training. Elapse time: ', (t1 - t0))"
   ]
  },
  {
   "cell_type": "markdown",
   "id": "9ee1984f",
   "metadata": {},
   "source": [
    "## Q14."
   ]
  },
  {
   "cell_type": "code",
   "execution_count": 63,
   "id": "32841836",
   "metadata": {},
   "outputs": [
    {
     "name": "stdout",
     "output_type": "stream",
     "text": [
      "2.110136187672615\n",
      "1.9931793386042118\n",
      "1.9772298738062382\n",
      "1.9692606173455716\n",
      "1.9744226429164409\n",
      "1.9752269302606582\n",
      "1.9831103753596544\n",
      "1.9659927320182324\n",
      "1.968075189769268\n",
      "1.968963565826416\n",
      "1.9935585324764251\n",
      "1.9434666048288345\n",
      "Finished Training. Elapse time:  180.90106987953186\n"
     ]
    }
   ],
   "source": [
    "# RUN THIS\n",
    "train(trainloader, 2)"
   ]
  },
  {
   "cell_type": "code",
   "execution_count": 65,
   "id": "393f1810",
   "metadata": {},
   "outputs": [],
   "source": [
    "torch.save(net.state_dict(), 'mycnn.pth')"
   ]
  },
  {
   "cell_type": "code",
   "execution_count": 66,
   "id": "fa83781a",
   "metadata": {},
   "outputs": [
    {
     "data": {
      "text/plain": [
       "<All keys matched successfully>"
      ]
     },
     "execution_count": 66,
     "metadata": {},
     "output_type": "execute_result"
    }
   ],
   "source": [
    "net = MyCNN()\n",
    "net.load_state_dict(torch.load('mycnn.pth'))"
   ]
  },
  {
   "cell_type": "markdown",
   "id": "39c33d16",
   "metadata": {},
   "source": [
    "## Q15."
   ]
  },
  {
   "cell_type": "code",
   "execution_count": null,
   "id": "e187e84a",
   "metadata": {},
   "outputs": [],
   "source": [
    "# RUN THIS\n",
    "print_accuracy(net, testloader, testset.classes)"
   ]
  },
  {
   "cell_type": "markdown",
   "id": "d991ee78",
   "metadata": {},
   "source": [
    "## Q16."
   ]
  },
  {
   "cell_type": "code",
   "execution_count": null,
   "id": "0f7586b8",
   "metadata": {},
   "outputs": [],
   "source": [
    "def plot_conv (conv):\n",
    "    import matplotlib.pyplot as plt\n",
    "    #detached is already called \n",
    "    W = conv.weight.detach().numpy()\n",
    "    #make it numpy\n",
    "    W = W.numpy()\n",
    "    #creating a rectangle\n",
    "    #rows are output cols are input\n",
    "    #W.shape = (m,n,w,h)\n",
    "    #m = output, n = input, w and h are kernel\n",
    "    fig = plt.figure(figsize = (W[0], W[1]))\n",
    "    axx = fig.subplots(W[0], W[1])\n",
    "    for i in range(W[0]):\n",
    "        for j in range(W[1]):\n",
    "            plt.imshow(axx[i, j], 'gray')\n",
    "\n",
    "    \n",
    "    \n",
    "    \n",
    "    \n",
    "    \n",
    "    \n",
    "    \n",
    "\n"
   ]
  },
  {
   "cell_type": "markdown",
   "id": "1ddaa330",
   "metadata": {},
   "source": [
    "## Q17."
   ]
  },
  {
   "cell_type": "code",
   "execution_count": null,
   "id": "179bb788",
   "metadata": {},
   "outputs": [],
   "source": [
    "# RUN THIS\n",
    "plot_conv(net.conv1)"
   ]
  }
 ],
 "metadata": {
  "kernelspec": {
   "display_name": "Python 3 (ipykernel)",
   "language": "python",
   "name": "python3"
  },
  "language_info": {
   "codemirror_mode": {
    "name": "ipython",
    "version": 3
   },
   "file_extension": ".py",
   "mimetype": "text/x-python",
   "name": "python",
   "nbconvert_exporter": "python",
   "pygments_lexer": "ipython3",
   "version": "3.9.13"
  }
 },
 "nbformat": 4,
 "nbformat_minor": 5
}
